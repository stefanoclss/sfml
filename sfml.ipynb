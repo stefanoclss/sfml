{
 "cells": [
  {
   "cell_type": "markdown",
   "id": "c865bfb4-f7fc-4852-85f9-965fae20a5d4",
   "metadata": {},
   "source": [
    "What is the model improvement of data-augmentation in regards to different types of data? (audio,images,tabular,tabular (low-dimensionalty))"
   ]
  },
  {
   "cell_type": "markdown",
   "id": "2fd4d772-604c-407b-93a3-2f11dde09ce0",
   "metadata": {},
   "source": [
    "# Creation of synthetic data"
   ]
  },
  {
   "cell_type": "code",
   "execution_count": 92,
   "id": "a0e0bc8d-5a82-4b3d-9f25-7775df0acefc",
   "metadata": {},
   "outputs": [],
   "source": [
    "from matplotlib import pyplot as plt\n",
    "from scipy.stats import randint\n",
    "import pandas as pd \n",
    "from imblearn.over_sampling import SMOTE\n",
    "from sklearn.model_selection import train_test_split"
   ]
  },
  {
   "cell_type": "code",
   "execution_count": 93,
   "id": "912dc682-67ba-432c-9851-c8b12a0e4903",
   "metadata": {},
   "outputs": [],
   "source": [
    "low_x1, high_x1 = 70,120\n",
    "\n",
    "low_y1, high_y1 = 70,120\n",
    "\n",
    "\n",
    "low_x2, high_x2 = 10,60\n",
    "\n",
    "low_y2, high_y2 = 10,60\n",
    "\n",
    "amount_of_samples = 100\n",
    "\n",
    "rx_1 = randint.rvs(low_x1, high_x1, size=amount_of_samples)\n",
    "ry_1 = randint.rvs(low_y1, high_y1, size=amount_of_samples)\n",
    "\n",
    "rx_2 = randint.rvs(low_x2, high_x2, size=int(amount_of_samples/2))\n",
    "ry_2 = randint.rvs(low_y2, high_y2, size=int(amount_of_samples/2))"
   ]
  },
  {
   "cell_type": "code",
   "execution_count": 94,
   "id": "8462e984-e7a6-4aad-bdb2-24d7b47a7187",
   "metadata": {},
   "outputs": [
    {
     "data": {
      "image/png": "[encoded data removed]",
      "text/plain": [
       "<Figure size 640x480 with 1 Axes>"
      ]
     },
     "metadata": {},
     "output_type": "display_data"
    }
   ],
   "source": [
    "group_nr0 = [\"0\"] * amount_of_samples\n",
    "group_nr1 = [\"1\"] * int(amount_of_samples/2)\n",
    "first_group = list(zip(rx_1, ry_1, group_nr0))\n",
    "second_group = list(zip(rx_2, ry_2, group_nr1))\n",
    "\n",
    "\n",
    "\n",
    "plt.scatter(rx_1, ry_1)\n",
    "plt.scatter(rx_2, ry_2)\n",
    "plt.show()"
   ]
  },
  {
   "cell_type": "code",
   "execution_count": 95,
   "id": "40206000-b603-4392-8faa-a2f1f438b664",
   "metadata": {},
   "outputs": [
    {
     "name": "stdout",
     "output_type": "stream",
     "text": [
      "[(77, 105, '0'), (117, 86, '0'), (83, 79, '0'), (104, 89, '0'), (97, 100, '0'), (110, 93, '0'), (105, 72, '0'), (102, 74, '0'), (87, 96, '0'), (84, 72, '0'), (98, 93, '0'), (98, 101, '0'), (77, 81, '0'), (118, 87, '0'), (87, 94, '0'), (82, 115, '0'), (75, 114, '0'), (115, 105, '0'), (94, 78, '0'), (89, 116, '0'), (103, 118, '0'), (82, 110, '0'), (87, 77, '0'), (70, 93, '0'), (100, 92, '0'), (87, 84, '0'), (87, 81, '0'), (110, 90, '0'), (71, 119, '0'), (90, 103, '0'), (105, 96, '0'), (78, 98, '0'), (83, 91, '0'), (93, 81, '0'), (78, 112, '0'), (97, 101, '0'), (90, 80, '0'), (79, 112, '0'), (71, 99, '0'), (115, 91, '0'), (109, 87, '0'), (106, 87, '0'), (70, 88, '0'), (85, 118, '0'), (97, 79, '0'), (78, 95, '0'), (115, 71, '0'), (99, 116, '0'), (106, 108, '0'), (94, 74, '0'), (100, 100, '0'), (79, 96, '0'), (86, 116, '0'), (108, 90, '0'), (90, 112, '0'), (88, 93, '0'), (99, 91, '0'), (117, 110, '0'), (111, 100, '0'), (89, 89, '0'), (71, 105, '0'), (86, 111, '0'), (112, 90, '0'), (74, 89, '0'), (82, 114, '0'), (98, 73, '0'), (91, 70, '0'), (98, 78, '0'), (110, 87, '0'), (88, 116, '0'), (87, 90, '0'), (114, 82, '0'), (75, 116, '0'), (74, 72, '0'), (112, 105, '0'), (86, 112, '0'), (72, 117, '0'), (76, 78, '0'), (86, 101, '0'), (91, 101, '0'), (116, 103, '0'), (106, 114, '0'), (109, 73, '0'), (78, 74, '0'), (82, 73, '0'), (80, 114, '0'), (94, 116, '0'), (103, 85, '0'), (74, 104, '0'), (110, 70, '0'), (117, 95, '0'), (94, 89, '0'), (98, 106, '0'), (74, 81, '0'), (91, 76, '0'), (117, 81, '0'), (91, 109, '0'), (84, 112, '0'), (119, 118, '0'), (94, 96, '0'), (11, 26, '1'), (54, 30, '1'), (11, 50, '1'), (17, 13, '1'), (58, 50, '1'), (49, 39, '1'), (23, 21, '1'), (14, 35, '1'), (42, 44, '1'), (25, 35, '1'), (55, 10, '1'), (48, 24, '1'), (49, 45, '1'), (53, 35, '1'), (13, 27, '1'), (22, 38, '1'), (13, 57, '1'), (31, 45, '1'), (52, 44, '1'), (49, 24, '1'), (46, 30, '1'), (15, 24, '1'), (45, 26, '1'), (45, 33, '1'), (38, 32, '1'), (34, 33, '1'), (35, 24, '1'), (46, 44, '1'), (31, 32, '1'), (32, 43, '1'), (46, 27, '1'), (28, 56, '1'), (58, 45, '1'), (37, 34, '1'), (55, 12, '1'), (44, 58, '1'), (57, 21, '1'), (13, 53, '1'), (36, 39, '1'), (55, 52, '1'), (29, 24, '1'), (20, 57, '1'), (40, 18, '1'), (42, 55, '1'), (29, 21, '1'), (49, 39, '1'), (43, 18, '1'), (22, 22, '1'), (46, 17, '1'), (14, 29, '1')]\n"
     ]
    }
   ],
   "source": [
    "for list_elem in second_group:\n",
    "    first_group.append(list_elem)\n",
    "print(first_group)"
   ]
  },
  {
   "cell_type": "code",
   "execution_count": 96,
   "id": "4d484c98-c8a2-48bc-9772-f19b8b61a4a1",
   "metadata": {},
   "outputs": [],
   "source": [
    "block_data = pd.DataFrame(first_group, columns  =['x', 'y', \"group\"])"
   ]
  },
  {
   "cell_type": "code",
   "execution_count": 97,
   "id": "fadf87d1-3ac2-4db9-a28c-fd5277e58365",
   "metadata": {},
   "outputs": [
    {
     "data": {
      "text/html": [
       "<div>\n",
       "<style scoped>\n",
       "    .dataframe tbody tr th:only-of-type {\n",
       "        vertical-align: middle;\n",
       "    }\n",
       "\n",
       "    .dataframe tbody tr th {\n",
       "        vertical-align: top;\n",
       "    }\n",
       "\n",
       "    .dataframe thead th {\n",
       "        text-align: right;\n",
       "    }\n",
       "</style>\n",
       "<table border=\"1\" class=\"dataframe\">\n",
       "  <thead>\n",
       "    <tr style=\"text-align: right;\">\n",
       "      <th></th>\n",
       "      <th>x</th>\n",
       "      <th>y</th>\n",
       "      <th>group</th>\n",
       "    </tr>\n",
       "  </thead>\n",
       "  <tbody>\n",
       "    <tr>\n",
       "      <th>0</th>\n",
       "      <td>77</td>\n",
       "      <td>105</td>\n",
       "      <td>0</td>\n",
       "    </tr>\n",
       "    <tr>\n",
       "      <th>1</th>\n",
       "      <td>117</td>\n",
       "      <td>86</td>\n",
       "      <td>0</td>\n",
       "    </tr>\n",
       "    <tr>\n",
       "      <th>2</th>\n",
       "      <td>83</td>\n",
       "      <td>79</td>\n",
       "      <td>0</td>\n",
       "    </tr>\n",
       "    <tr>\n",
       "      <th>3</th>\n",
       "      <td>104</td>\n",
       "      <td>89</td>\n",
       "      <td>0</td>\n",
       "    </tr>\n",
       "    <tr>\n",
       "      <th>4</th>\n",
       "      <td>97</td>\n",
       "      <td>100</td>\n",
       "      <td>0</td>\n",
       "    </tr>\n",
       "    <tr>\n",
       "      <th>...</th>\n",
       "      <td>...</td>\n",
       "      <td>...</td>\n",
       "      <td>...</td>\n",
       "    </tr>\n",
       "    <tr>\n",
       "      <th>145</th>\n",
       "      <td>49</td>\n",
       "      <td>39</td>\n",
       "      <td>1</td>\n",
       "    </tr>\n",
       "    <tr>\n",
       "      <th>146</th>\n",
       "      <td>43</td>\n",
       "      <td>18</td>\n",
       "      <td>1</td>\n",
       "    </tr>\n",
       "    <tr>\n",
       "      <th>147</th>\n",
       "      <td>22</td>\n",
       "      <td>22</td>\n",
       "      <td>1</td>\n",
       "    </tr>\n",
       "    <tr>\n",
       "      <th>148</th>\n",
       "      <td>46</td>\n",
       "      <td>17</td>\n",
       "      <td>1</td>\n",
       "    </tr>\n",
       "    <tr>\n",
       "      <th>149</th>\n",
       "      <td>14</td>\n",
       "      <td>29</td>\n",
       "      <td>1</td>\n",
       "    </tr>\n",
       "  </tbody>\n",
       "</table>\n",
       "<p>150 rows × 3 columns</p>\n",
       "</div>"
      ],
      "text/plain": [
       "       x    y group\n",
       "0     77  105     0\n",
       "1    117   86     0\n",
       "2     83   79     0\n",
       "3    104   89     0\n",
       "4     97  100     0\n",
       "..   ...  ...   ...\n",
       "145   49   39     1\n",
       "146   43   18     1\n",
       "147   22   22     1\n",
       "148   46   17     1\n",
       "149   14   29     1\n",
       "\n",
       "[150 rows x 3 columns]"
      ]
     },
     "metadata": {},
     "output_type": "display_data"
    }
   ],
   "source": [
    "display(block_data)"
   ]
  },
  {
   "cell_type": "code",
   "execution_count": 98,
   "id": "3daf78db-350d-4192-a85e-3cec712bb228",
   "metadata": {},
   "outputs": [],
   "source": [
    "train, test = train_test_split(block_data, test_size=0.8)\n"
   ]
  },
  {
   "cell_type": "code",
   "execution_count": 99,
   "id": "bf698c32-08dd-4e10-8902-8c78f4288f2b",
   "metadata": {},
   "outputs": [
    {
     "name": "stdout",
     "output_type": "stream",
     "text": [
      "       x    y group\n",
      "78    86  101     0\n",
      "22    87   77     0\n",
      "144   29   21     1\n",
      "8     87   96     0\n",
      "79    91  101     0\n",
      "75    86  112     0\n",
      "70    87   90     0\n",
      "48   106  108     0\n",
      "43    85  118     0\n",
      "13   118   87     0\n",
      "133   37   34     1\n",
      "18    94   78     0\n",
      "44    97   79     0\n",
      "103   17   13     1\n",
      "49    94   74     0\n",
      "143   42   55     1\n",
      "113   53   35     1\n",
      "56    99   91     0\n",
      "101   54   30     1\n",
      "16    75  114     0\n",
      "112   49   45     1\n",
      "53   108   90     0\n",
      "92    98  106     0\n",
      "63    74   89     0\n",
      "111   48   24     1\n",
      "11    98  101     0\n",
      "14    87   94     0\n",
      "123   45   33     1\n",
      "96    91  109     0\n",
      "1    117   86     0\n"
     ]
    }
   ],
   "source": [
    "print(train)"
   ]
  },
  {
   "cell_type": "code",
   "execution_count": 100,
   "id": "a648541e-5935-471d-9053-7c82c9f65b04",
   "metadata": {},
   "outputs": [],
   "source": [
    "X_train = train.drop(['group'], axis=1)\n",
    "X_test = test.drop(['group'], axis=1)\n",
    "\n",
    "y_train = train['group']\n",
    "y_test = test['group']\n"
   ]
  },
  {
   "cell_type": "code",
   "execution_count": null,
   "id": "b6d6dc0d-da78-4f66-b493-3e7ef3968ab5",
   "metadata": {},
   "outputs": [],
   "source": []
  }
 ],
 "metadata": {
  "kernelspec": {
   "display_name": "Python 3 (ipykernel)",
   "language": "python",
   "name": "python3"
  },
  "language_info": {
   "codemirror_mode": {
    "name": "ipython",
    "version": 3
   },
   "file_extension": ".py",
   "mimetype": "text/x-python",
   "name": "python",
   "nbconvert_exporter": "python",
   "pygments_lexer": "ipython3",
   "version": "3.9.13"
  }
 },
 "nbformat": 4,
 "nbformat_minor": 5
}
